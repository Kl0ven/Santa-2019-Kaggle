{
 "cells": [
  {
   "cell_type": "code",
   "execution_count": 1,
   "metadata": {},
   "outputs": [],
   "source": [
    "import os\n",
    "\n",
    "import numpy as np\n",
    "import pandas as pd\n",
    "import matplotlib.pyplot as plt"
   ]
  },
  {
   "cell_type": "code",
   "execution_count": 2,
   "metadata": {},
   "outputs": [],
   "source": [
    "fpath = './Data/family_data.csv'\n",
    "data = pd.read_csv(fpath, index_col='family_id')\n",
    "\n",
    "fpath = './submission_75955.csv'\n",
    "submission = pd.read_csv(fpath, index_col='family_id')"
   ]
  },
  {
   "cell_type": "code",
   "execution_count": 3,
   "metadata": {},
   "outputs": [],
   "source": [
    "N_DAYS = 100\n",
    "MAX_OCCUPANCY = 300\n",
    "MIN_OCCUPANCY = 125\n",
    "\n",
    "\n",
    "family_size = data.n_people.values\n",
    "days_array = np.arange(N_DAYS, 0, -1)\n",
    "choice_dict = data.loc[:, 'choice_0': 'choice_9'].T.to_dict()\n",
    "\n",
    "choice_array_num = np.full((data.shape[0], N_DAYS + 1), -1)\n",
    "for i, choice in enumerate(data.loc[:, 'choice_0': 'choice_9'].values):\n",
    "    for d, day in enumerate(choice):\n",
    "        choice_array_num[i, day] = d\n",
    "\n",
    "        \n",
    "penalties_array = np.array([\n",
    "    [\n",
    "        0,\n",
    "        50,\n",
    "        50 + 9 * n,\n",
    "        100 + 9 * n,\n",
    "        200 + 9 * n,\n",
    "        200 + 18 * n,\n",
    "        300 + 18 * n,\n",
    "        300 + 36 * n,\n",
    "        400 + 36 * n,\n",
    "        500 + 36 * n + 199 * n,\n",
    "        500 + 36 * n + 398 * n\n",
    "    ]\n",
    "    for n in range(family_size.max() + 1)\n",
    "])"
   ]
  },
  {
   "cell_type": "code",
   "execution_count": 4,
   "metadata": {
    "scrolled": true
   },
   "outputs": [
    {
     "data": {
      "image/png": "[encoded data removed]",
      "text/plain": [
       "<Figure size 432x288 with 1 Axes>"
      ]
     },
     "metadata": {
      "needs_background": "light"
     },
     "output_type": "display_data"
    }
   ],
   "source": [
    "plt.hist(submission['assigned_day'], 100, density=False, facecolor='g', alpha=0.75, weights=family_size)\n",
    "plt.grid()\n",
    "\n",
    "plt.show()"
   ]
  },
  {
   "cell_type": "code",
   "execution_count": 5,
   "metadata": {},
   "outputs": [],
   "source": [
    "# for n in range(2,9):\n",
    "#     print(\"Famille de \", n)\n",
    "#     lost = 0 \n",
    "#     for r in range(10):\n",
    "#         val = 0 \n",
    "#         for i, row in data[data['n_people'] == n].iterrows():\n",
    "            \n",
    "#             if (submission['assigned_day'][i] in row[0:r].values):\n",
    "#                 val += 1\n",
    "#         if len(data[data['n_people'] == n]) - val != 0:\n",
    "#             print(n, r,len(data[data['n_people'] == n]) - val, penalties_array[8, r]*(len(data[data['n_people'] == n]) - val))\n"
   ]
  },
  {
   "cell_type": "code",
   "execution_count": 6,
   "metadata": {},
   "outputs": [],
   "source": [
    "def cost_function(prediction, penalties_array, family_size, days):\n",
    "    penalty = 0\n",
    "\n",
    "    # We'll use this to count the number of people scheduled each day\n",
    "    daily_occupancy = np.zeros((len(days)+1))\n",
    "    N = family_size.shape[0]\n",
    "    \n",
    "    # Looping over each family; d is the day, n is size of that family, \n",
    "    # and choice is their top choices\n",
    "    for i in range(N):\n",
    "        # add the family member count to the daily occupancy\n",
    "        n = family_size[i]\n",
    "        d = prediction[i]\n",
    "        choice = choice_array_num[i]\n",
    "        \n",
    "        daily_occupancy[d] += n\n",
    "\n",
    "        # Calculate the penalty for not getting top preference\n",
    "        penalty += penalties_array[n, choice[d]]\n",
    "\n",
    "    # for each date, check total occupancy\n",
    "    #  (using soft constraints instead of hard constraints)\n",
    "    relevant_occupancy = daily_occupancy[1:]\n",
    "    incorrect_occupancy = np.any(\n",
    "        (relevant_occupancy > MAX_OCCUPANCY) | \n",
    "        (relevant_occupancy < MIN_OCCUPANCY)\n",
    "    )\n",
    "    \n",
    "    if incorrect_occupancy:\n",
    "        penalty += 100000000\n",
    "\n",
    "    # Calculate the accounting cost\n",
    "    # The first day (day 100) is treated special\n",
    "    init_occupancy = daily_occupancy[days[0]]\n",
    "    accounting_cost = (init_occupancy - 125.0) / 400.0 * init_occupancy**(0.5)\n",
    "    # using the max function because the soft constraints might allow occupancy to dip below 125\n",
    "    accounting_cost = max(0, accounting_cost)\n",
    "    \n",
    "    # Loop over the rest of the days, keeping track of previous count\n",
    "    yesterday_count = init_occupancy\n",
    "    for day in days[1:]:\n",
    "        today_count = daily_occupancy[day]\n",
    "        diff = np.abs(today_count - yesterday_count)\n",
    "        accounting_cost += max(0, (today_count - 125.0) / 400.0 * today_count**(0.5 + diff / 50.0))\n",
    "        yesterday_count = today_count\n",
    "\n",
    "    \n",
    "\n",
    "    return penalty,accounting_cost, penalty+accounting_cost"
   ]
  },
  {
   "cell_type": "code",
   "execution_count": 7,
   "metadata": {},
   "outputs": [
    {
     "name": "stdout",
     "output_type": "stream",
     "text": [
      "penalty  70747\n",
      "accounting 5208.899044987306\n"
     ]
    }
   ],
   "source": [
    "best = submission['assigned_day'].values\n",
    "penalty, accounting, summ = cost_function(best, penalties_array, family_size, days_array)\n",
    "print(\"penalty \", penalty)\n",
    "print(\"accounting\", accounting)"
   ]
  },
  {
   "cell_type": "code",
   "execution_count": 8,
   "metadata": {},
   "outputs": [
    {
     "data": {
      "text/plain": [
       "<BarContainer object of 2 artists>"
      ]
     },
     "execution_count": 8,
     "metadata": {},
     "output_type": "execute_result"
    },
    {
     "data": {
      "image/png": "[encoded data removed]",
      "text/plain": [
       "<Figure size 432x288 with 1 Axes>"
      ]
     },
     "metadata": {
      "needs_background": "light"
     },
     "output_type": "display_data"
    }
   ],
   "source": [
    "plt.bar([0, 1], [penalty, accounting], tick_label=[\"penalty\", \"accounting\"])"
   ]
  },
  {
   "cell_type": "code",
   "execution_count": 9,
   "metadata": {},
   "outputs": [],
   "source": [
    "# Generating permutation using Heap Algorithm \n",
    "def heapPermutation(a, size, n): \n",
    "      \n",
    "    # if size becomes 1 then prints the obtained \n",
    "    # permutation \n",
    "    if (size == 1): \n",
    "        yield a\n",
    "  \n",
    "    for i in range(size): \n",
    "        yield from heapPermutation(a,size-1,n); \n",
    "  \n",
    "        # if size is odd, swap first and last \n",
    "        # element \n",
    "        # else If size is even, swap ith and last element \n",
    "        if size&1: \n",
    "            a[0], a[size-1] = a[size-1],a[0] \n",
    "        else: \n",
    "            a[i], a[size-1] = a[size-1],a[i] \n",
    "          "
   ]
  },
  {
   "cell_type": "code",
   "execution_count": 10,
   "metadata": {
    "scrolled": false
   },
   "outputs": [],
   "source": [
    "NB_PERM = 3 \n",
    "fam_active_choice = np.array([0,0,0])\n",
    "fam_size = [2,8,3]\n",
    "result = []\n",
    "\n",
    "for x in range(10**NB_PERM):\n",
    "    for i,x in enumerate(str(x).zfill(NB_PERM)):\n",
    "        fam_active_choice[i] = int(x) \n",
    "    \n",
    "    for p in heapPermutation(fam_active_choice.copy(), NB_PERM, NB_PERM):\n",
    "        if  any([f == p for f, p in zip(fam_active_choice, p)]) :\n",
    "            continue\n",
    "        cost = 0\n",
    "        for i in range(NB_PERM):\n",
    "            cost += penalties_array[fam_size[i],fam_active_choice[i]] - penalties_array[fam_size[i],p[i]]\n",
    "        result.append({\"cost\":cost,\"p\": p , \"fam_active_choice\" : fam_active_choice, \"fam_size\" : fam_size})\n",
    "    \n"
   ]
  },
  {
   "cell_type": "code",
   "execution_count": 14,
   "metadata": {},
   "outputs": [
    {
     "name": "stdout",
     "output_type": "stream",
     "text": [
      "234432\n"
     ]
    }
   ],
   "source": [
    "dt = pd.DataFrame(result)\n",
    "\n",
    "dt[\"cost\"].max()\n",
    "val = 0 \n",
    "for row in dt.iterrows():\n",
    "    if row[1][0] > 0 :\n",
    "       val += row[1][0]\n",
    "print(val)\n"
   ]
  },
  {
   "cell_type": "code",
   "execution_count": null,
   "metadata": {},
   "outputs": [],
   "source": []
  }
 ],
 "metadata": {
  "kernelspec": {
   "display_name": "Python 3",
   "language": "python",
   "name": "python3"
  },
  "language_info": {
   "codemirror_mode": {
    "name": "ipython",
    "version": 3
   },
   "file_extension": ".py",
   "mimetype": "text/x-python",
   "name": "python",
   "nbconvert_exporter": "python",
   "pygments_lexer": "ipython3",
   "version": "3.6.9"
  }
 },
 "nbformat": 4,
 "nbformat_minor": 2
}
