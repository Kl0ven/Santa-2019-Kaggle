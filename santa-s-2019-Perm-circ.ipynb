{
 "cells": [
  {
   "cell_type": "code",
   "execution_count": 1,
   "metadata": {},
   "outputs": [],
   "source": [
    "import os\n",
    "\n",
    "import numpy as np\n",
    "import pandas as pd\n",
    "import matplotlib.pyplot as plt\n",
    "import itertools\n",
    "from tqdm import tqdm_notebook as tqdm"
   ]
  },
  {
   "cell_type": "code",
   "execution_count": 2,
   "metadata": {},
   "outputs": [],
   "source": [
    "fpath = './Data/family_data.csv'\n",
    "data = pd.read_csv(fpath, index_col='family_id')\n",
    "\n",
    "fpath = './submission_75955.csv'\n",
    "submission = pd.read_csv(fpath, index_col='family_id')"
   ]
  },
  {
   "cell_type": "code",
   "execution_count": 3,
   "metadata": {},
   "outputs": [],
   "source": [
    "N_DAYS = 100\n",
    "MAX_OCCUPANCY = 300\n",
    "MIN_OCCUPANCY = 125\n",
    "\n",
    "\n",
    "family_size = data.n_people.values\n",
    "days_array = np.arange(N_DAYS, 0, -1)\n",
    "choice_dict = data.loc[:, 'choice_0': 'choice_9'].T.to_dict()\n",
    "\n",
    "choice_array_num = np.full((data.shape[0], N_DAYS + 1), -1)\n",
    "for i, choice in enumerate(data.loc[:, 'choice_0': 'choice_9'].values):\n",
    "    for d, day in enumerate(choice):\n",
    "        choice_array_num[i, day] = d\n",
    "\n",
    "best = submission['assigned_day'].values\n",
    "        \n",
    "penalties_array = np.array([\n",
    "    [\n",
    "        0,\n",
    "        50,\n",
    "        50 + 9 * n,\n",
    "        100 + 9 * n,\n",
    "        200 + 9 * n,\n",
    "        200 + 18 * n,\n",
    "        300 + 18 * n,\n",
    "        300 + 36 * n,\n",
    "        400 + 36 * n,\n",
    "        500 + 36 * n + 199 * n,\n",
    "        500 + 36 * n + 398 * n\n",
    "    ]\n",
    "    for n in range(family_size.max() + 1)\n",
    "])"
   ]
  },
  {
   "cell_type": "code",
   "execution_count": 4,
   "metadata": {},
   "outputs": [],
   "source": [
    "# Generating permutation using Heap Algorithm \n",
    "def heapPermutation(a, size, n): \n",
    "      \n",
    "    # if size becomes 1 then prints the obtained \n",
    "    # permutation \n",
    "    if (size == 1): \n",
    "        yield a\n",
    "  \n",
    "    for i in range(size): \n",
    "        yield from heapPermutation(a,size-1,n); \n",
    "  \n",
    "        # if size is odd, swap first and last \n",
    "        # element \n",
    "        # else If size is even, swap ith and last element \n",
    "        if size&1: \n",
    "            a[0], a[size-1] = a[size-1],a[0] \n",
    "        else: \n",
    "            a[i], a[size-1] = a[size-1],a[i] "
   ]
  },
  {
   "cell_type": "code",
   "execution_count": 5,
   "metadata": {},
   "outputs": [],
   "source": [
    "def checkIfDuplicates(listOfElems):\n",
    "    ''' Check if given list contains any duplicates '''\n",
    "    if len(listOfElems) == len(set(listOfElems)):\n",
    "        return False\n",
    "    else:\n",
    "        return True"
   ]
  },
  {
   "cell_type": "code",
   "execution_count": 6,
   "metadata": {},
   "outputs": [],
   "source": [
    "def get_pref(x,p): \n",
    "    return int(x[1][:-1][x[1][:-1] == p].index.values[0].split('_')[1])\n"
   ]
  },
  {
   "cell_type": "code",
   "execution_count": null,
   "metadata": {
    "scrolled": true
   },
   "outputs": [
    {
     "data": {
      "application/vnd.jupyter.widget-view+json": {
       "model_id": "ca67ced716d546448de5f8326deb5ef0",
       "version_major": 2,
       "version_minor": 0
      },
      "text/plain": [
       "HBox(children=(IntProgress(value=0, max=125000000000), HTML(value='')))"
      ]
     },
     "metadata": {},
     "output_type": "display_data"
    }
   ],
   "source": [
    "NB_PERM = 3\n",
    "fam_active_choice = np.empty(NB_PERM, dtype=int)\n",
    "result = []\n",
    "\n",
    "\n",
    "for x in tqdm(itertools.product(data.iterrows(), repeat=NB_PERM), total=5000**NB_PERM):\n",
    "    if checkIfDuplicates([z[0] for z in x]):\n",
    "        continue\n",
    "    \n",
    "    for n in range(NB_PERM):\n",
    "        fam_active_choice[n] = best[x[n][0]]\n",
    "\n",
    "    for p in heapPermutation(fam_active_choice.copy(), NB_PERM, NB_PERM):\n",
    "        if  any([f == p for f, p in zip(fam_active_choice, p)]) or not all([pc in z[1][:-1].values for z,pc in zip(x,p)]) :\n",
    "            continue \n",
    "        cost = 0\n",
    "        for i in range(NB_PERM):\n",
    "            fs = family_size[x[n][0]]\n",
    "            cost += penalties_array[fs, get_pref(x[i], fam_active_choice[i])] - penalties_array[fs ,get_pref(x[i], p[i])]\n",
    "        if cost > 0 :\n",
    "            result.append({\"cost\":cost,\"p\": p , \"fam_active_choice\" : fam_active_choice, \"fam_size\" : fs})\n"
   ]
  },
  {
   "cell_type": "code",
   "execution_count": null,
   "metadata": {},
   "outputs": [],
   "source": [
    "dt = pd.DataFrame(result)\n",
    "\n",
    "print(dt[\"cost\"].max())\n",
    "val = 0 \n",
    "for row in dt.iterrows():\n",
    "    if row[1][0] > 0 :\n",
    "       val += row[1][0]\n",
    "print(val)\n"
   ]
  },
  {
   "cell_type": "code",
   "execution_count": null,
   "metadata": {},
   "outputs": [],
   "source": []
  }
 ],
 "metadata": {
  "kernelspec": {
   "display_name": "Python 3",
   "language": "python",
   "name": "python3"
  },
  "language_info": {
   "codemirror_mode": {
    "name": "ipython",
    "version": 3
   },
   "file_extension": ".py",
   "mimetype": "text/x-python",
   "name": "python",
   "nbconvert_exporter": "python",
   "pygments_lexer": "ipython3",
   "version": "3.6.9"
  }
 },
 "nbformat": 4,
 "nbformat_minor": 2
}
